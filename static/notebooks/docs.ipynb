{
 "cells": [
  {
   "cell_type": "markdown",
   "metadata": {},
   "source": [
    "I've filled the following in for the app description: Use this app to build your very own custom playlists, editing playlist length, mood, and choosing how much new music you want to discover.\n",
    "\n",
    "And two redirect URIs:\n",
    "\n",
    "https://localhost:8888/callback/\n",
    "\n",
    "https://localhost:3000/callback/\n",
    "\n",
    "And using the follwing APIs/SDKs:\n",
    "\n",
    "- Web API\n",
    "- Web Playback SDK\n",
    "- Android\n",
    "- Ads API"
   ]
  },
  {
   "cell_type": "markdown",
   "metadata": {},
   "source": [
    "# Libraries"
   ]
  },
  {
   "cell_type": "markdown",
   "metadata": {},
   "source": [
    "## Python"
   ]
  },
  {
   "cell_type": "markdown",
   "metadata": {},
   "source": [
    "### dotenv"
   ]
  },
  {
   "cell_type": "markdown",
   "metadata": {},
   "source": [
    "### flask"
   ]
  },
  {
   "cell_type": "markdown",
   "metadata": {},
   "source": [
    "### json"
   ]
  },
  {
   "cell_type": "markdown",
   "metadata": {},
   "source": [
    "### matplotlib"
   ]
  },
  {
   "cell_type": "markdown",
   "metadata": {},
   "source": [
    "### numpy"
   ]
  },
  {
   "cell_type": "markdown",
   "metadata": {},
   "source": [
    "### os"
   ]
  },
  {
   "cell_type": "markdown",
   "metadata": {},
   "source": [
    "### pandas"
   ]
  },
  {
   "cell_type": "markdown",
   "metadata": {},
   "source": [
    "### scikit-learn"
   ]
  },
  {
   "cell_type": "markdown",
   "metadata": {},
   "source": [
    "### spotipy \n"
   ]
  },
  {
   "cell_type": "markdown",
   "metadata": {},
   "source": [
    "| Concept | Definition | Location | Example |\n",
    "| - | - | - | - |\n",
    "| Spotify URI | The resource identifier of, for example, an artist, album or track. This can be entered in the search box in a Spotify Desktop Client, to navigate to that resource. | To find a Spotify URI, right-click (on Windows) or Ctrl-Click (on a Mac) on the artist, album or track name. | spotify:track:6rqhFgbbKwnb9MLmUQDhG6 |\n",
    "| Spotify ID | The base-62 identifier found at the end of the Spotify URI (see above) for an artist, track, album, playlist, etc. Unlike a Spotify URI, a Spotify ID does not clearly identify the type of resource; that information is provided elsewhere in the call. | See Spotify URI | 6rqhFgbbKwnb9MLmUQDhG6 |\n",
    "| Spotify Category ID | The unique string identifying the Spotify category. | | party |\n",
    "| Spotify User ID | The unique string identifying the Spotify user that you can find at the end of the Spotify URI for the user. | The ID of the current user can be obtained via the Get Current User's Profile endpoint. | wizzler |\n",
    "| Spotify URL | When visited, if the user has the Spotify client installed, it will launch the Client and navigate to the requested resource. Which client is determined by the user's device and account settings at play.spotify.com. | | http://open.spotify.com/track/6rqhFgbbKwnb9MLmUQDhG6 |"
   ]
  },
  {
   "cell_type": "markdown",
   "metadata": {},
   "source": [
    "#### Spotipy Helper Functions\n"
   ]
  },
  {
   "cell_type": "markdown",
   "metadata": {},
   "source": [
    "\n",
    "\n",
    "| Helper Function               | Description                     |\n",
    "|-------------------------------|---------------------------------|\n",
    "| artist_related_artists        | Fetch related artists           |\n",
    "| artist_top_tracks             | Get top tracks of an artist     |\n",
    "| audio_analysis                | Retrieve audio analysis         |\n",
    "| audio_features                | Get audio features of a track   |\n",
    "| current_user                  | Get current user profile        |\n",
    "| current_user_follow_playlist  | Follow a playlist               |\n",
    "| current_user_recently_played  | Fetch recently played tracks    |\n",
    "| current_user_saved_tracks     | Get saved tracks of the user    |\n",
    "| current_user_top_artists      | Fetch user's top artists        |\n",
    "| current_user_top_tracks       | Fetch user's top tracks         |\n",
    "| me                            | Get current user info           |\n",
    "| playlist                      | Retrieve playlist details       |\n",
    "| playlist_add_items            | Add items to a playlist         |\n",
    "| playlist_change_details       | Change playlist details         |\n",
    "| playlist_reorder_items        | Reorder playlist items          |\n",
    "| playlist_tracks               | Get tracks in a playlist        |\n",
    "| recommendation_genre_seeds    | Get recommendation seeds        |\n",
    "| recommendations               | Fetch recommendations           |\n",
    "| shuffle                       | Shuffle playback                |\n",
    "| start_playback                | Start playback                  |\n",
    "| track                         | Get track details               |\n",
    "| tracks                        | Get multiple tracks             |\n",
    "| user                          | Get user profile                |\n",
    "| user_playlist_create          | Create a playlist for a user    |\n",
    "| volume                        | Adjust playback volume          |"
   ]
  },
  {
   "cell_type": "markdown",
   "metadata": {},
   "source": [
    "#### Audio Feature Response\n"
   ]
  },
  {
   "cell_type": "markdown",
   "metadata": {},
   "source": [
    "\n",
    "| Audio Feature | Data Type | Description | Range (If Applicable) | Example |\n",
    "| - | - | - | - | - |\n",
    "| acousticness | Float | Confidence measure whether track is acoustic. | 0-1, where 1.0 represents high confidence the track is acoustic. | 0.00242 |\n",
    "| analysis_url | String | URL to access full analysis of the track (access token required). | NA | https://api.spotify.com/v1/audio-analysis/2takcwOaAZWiXQijPHIx7B |\n",
    "| danceability | Float | Danceability describes how suitable a track is for dancing based on a combination of musical elements including tempo, rhythm stability, beat strength, and overall regularity. | A value of 0.0 is least danceable and 1.0 is most danceable. | 0.585 |\n",
    "| duration_ms | Integer | Duration of track in milliseconds. | NA | 237040 |\n",
    "| energy | Float | Typically, energetic tracks feel fast, loud, and noisy. For example, death metal has high energy, while a Bach prelude scores low on the scale. Perceptual features contributing to this attribute include dynamic range, perceived loudness, timbre, onset rate, and general entropy. | Energy is a measure from 0.0 to 1.0 and represents a perceptual measure of intensity and activity. | 0.842 |\n",
    "| id | String | Spotify ID for the track. | NA | 2takcwOaAZWiXQijPHIx7B |\n",
    "| instrumentalness | Float | Predicts whether a track contains no vocals. \"Ooh\" and \"aah\" sounds are treated as instrumental in this context. Rap or spoken word tracks are clearly \"vocal\". | The closer the instrumentalness value is to 1.0, the greater likelihood the track contains no vocal content. Values above 0.5 are intended to represent instrumental tracks, but confidence is higher as the value approaches 1.0. | 0.00686 |\n",
    "| key | Integer | The key the track is in. Integers map to pitches using standard Pitch Class notation. E.g. 0 = C, 1 = C♯/D♭, 2 = D, and so on. If no key was detected, the value is -1. | -1 - 11 | 9 |\n",
    "| liveness | Float | Detects the presence of an audience in the recording. Higher liveness values represent an increased probability that the track was performed live. |  A value above 0.8 provides strong likelihood that the track is live. | 0.0866 |\n",
    "| loudness | Float | The overall loudness of a track in decibels (dB). Loudness values are averaged across the entire track and are useful for comparing relative loudness of tracks. Loudness is the quality of a sound that is the primary psychological correlate of physical strength (amplitude). | Values typically range between -60 and 0 db. | -5.883 |\n",
    "| mode | Integer | Mode indicates the modality (major or minor) of a track, the type of scale from which its melodic content is derived. | Major is represented by 1 and minor is 0. | 0 |\n",
    "| speechiness | Float | Speechiness detects the presence of spoken words in a track. | The more exclusively speech-like the recording (e.g. talk show, audio book, poetry), the closer to 1.0 the attribute value. Values above 0.66 describe tracks that are probably made entirely of spoken words. Values between 0.33 and 0.66 describe tracks that may contain both music and speech, either in sections or layered, including such cases as rap music. Values below 0.33 most likely represent music and other non-speech-like tracks. | 0.0556 |\n",
    "| tempo | Float | The overall estimated tempo of a track in beats per minute (BPM). In musical terminology, tempo is the speed or pace of a given piece and derives directly from the average beat duration. | NA | 118.211 |\n",
    "| time_signature | Integer | An estimated time signature. The time signature (meter) is a notational convention to specify how many beats are in each bar (or measure). | he time signature ranges from 3 to 7 indicating time signatures of \"3/4\", to \"7/4\". | 4 |\n",
    "| track_href | String | A link to the Web API endpoint providing full details of the track. | NA | \"https://api.spotify.com/v1/tracks/2takcwOaAZWiXQijPHIx7B\" |\n",
    "| type | String | Object type. | NA | \"audio_features\" |\n",
    "| uri | String | The Spotify URI for the track. | NA | \"spotify:track:2takcwOaAZWiXQijPHIx7B\" |\n",
    "| valence | Float | Tracks with high valence sound more positive (e.g. happy, cheerful, euphoric), while tracks with low valence sound more negative (e.g. sad, depressed, angry). | A measure from 0.0 to 1.0 describing the musical positiveness conveyed by a track. | 0.428 |"
   ]
  },
  {
   "cell_type": "markdown",
   "metadata": {},
   "source": [
    "## HTML/CSS"
   ]
  },
  {
   "cell_type": "markdown",
   "metadata": {},
   "source": [
    "### animate"
   ]
  },
  {
   "cell_type": "markdown",
   "metadata": {},
   "source": [
    "### flex-slider"
   ]
  },
  {
   "cell_type": "markdown",
   "metadata": {},
   "source": [
    "### font-awesome"
   ]
  },
  {
   "cell_type": "markdown",
   "metadata": {},
   "source": [
    "### jinja"
   ]
  },
  {
   "cell_type": "markdown",
   "metadata": {},
   "source": [
    "### owl"
   ]
  },
  {
   "cell_type": "markdown",
   "metadata": {},
   "source": [
    "## JS/SASS"
   ]
  },
  {
   "cell_type": "markdown",
   "metadata": {},
   "source": [
    "### breakpoint"
   ]
  },
  {
   "cell_type": "markdown",
   "metadata": {},
   "source": [
    "### browser"
   ]
  },
  {
   "cell_type": "markdown",
   "metadata": {},
   "source": [
    "### dropotron"
   ]
  },
  {
   "cell_type": "markdown",
   "metadata": {},
   "source": [
    "### html-grid"
   ]
  },
  {
   "cell_type": "markdown",
   "metadata": {},
   "source": [
    "### isotope"
   ]
  },
  {
   "cell_type": "markdown",
   "metadata": {},
   "source": [
    "### mixins"
   ]
  },
  {
   "cell_type": "markdown",
   "metadata": {},
   "source": [
    "### popup"
   ]
  },
  {
   "cell_type": "markdown",
   "metadata": {},
   "source": [
    "### owl"
   ]
  },
  {
   "cell_type": "markdown",
   "metadata": {},
   "source": [
    "### scrollex"
   ]
  },
  {
   "cell_type": "markdown",
   "metadata": {},
   "source": [
    "### scrolly"
   ]
  },
  {
   "cell_type": "markdown",
   "metadata": {},
   "source": [
    "### tabs"
   ]
  },
  {
   "cell_type": "markdown",
   "metadata": {},
   "source": [
    "#  Processes"
   ]
  },
  {
   "cell_type": "markdown",
   "metadata": {},
   "source": [
    "### about_artist\n",
    "\n",
    "* get_albums(*sp*)\n",
    "* print_albums()"
   ]
  },
  {
   "cell_type": "markdown",
   "metadata": {},
   "source": [
    "### audio_features\n",
    "\n",
    "* get_audio_features(*sp*)"
   ]
  },
  {
   "cell_type": "markdown",
   "metadata": {},
   "source": [
    "### auth\n",
    "\n",
    "* authenticate()\n",
    "* auth_manage()\n",
    "* auth_url()"
   ]
  },
  {
   "cell_type": "markdown",
   "metadata": {},
   "source": [
    "### controls"
   ]
  },
  {
   "cell_type": "markdown",
   "metadata": {},
   "source": [
    "### secret\n",
    "\n",
    "* **CLIENT_ID**\n",
    "* **CLIENT_SECRET**\n",
    "* **REDIRECT_URI**\n",
    "* **SCOPE**\n",
    "\n",
    "    * user-library-read\n",
    "    * user-modify-playback-state\n",
    "    * user-read-currently-playing\n",
    "    * user-read-playback-state\n",
    "    * user-read-recently-played\n",
    "    * user-top-read"
   ]
  },
  {
   "cell_type": "markdown",
   "metadata": {},
   "source": [
    "### track_info\n",
    "\n",
    "* get_track_names(*sp, track_uris*)"
   ]
  },
  {
   "cell_type": "markdown",
   "metadata": {},
   "source": [
    "### user_info\n",
    "\n",
    "* get_user()\n",
    "* get_user_playlists(*sp, playlists*)\n",
    "* get_user_top_artists(*sp, top_artists*)\n",
    "* get_user_top_tracks(*sp, top_tracks*)\n",
    "* user_info(*top_tracks=10, top_artists=10, playlists=100*)"
   ]
  },
  {
   "cell_type": "markdown",
   "metadata": {},
   "source": [
    "### user_playlists\n",
    "\n",
    "* playlist_info(*sp*)\n",
    "* print_playlists()\n",
    "* print_songs(*sp*)"
   ]
  },
  {
   "cell_type": "markdown",
   "metadata": {},
   "source": [
    "### user_prompts\n",
    "\n",
    "* prompt_user_artist_URI()\n",
    "* prompt_user_playlist_id()"
   ]
  }
 ],
 "metadata": {
  "kernelspec": {
   "display_name": ".venv",
   "language": "python",
   "name": "python3"
  },
  "language_info": {
   "codemirror_mode": {
    "name": "ipython",
    "version": 3
   },
   "file_extension": ".py",
   "mimetype": "text/x-python",
   "name": "python",
   "nbconvert_exporter": "python",
   "pygments_lexer": "ipython3",
   "version": "3.10.7"
  }
 },
 "nbformat": 4,
 "nbformat_minor": 2
}
