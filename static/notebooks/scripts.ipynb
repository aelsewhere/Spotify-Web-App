{
 "cells": [
  {
   "cell_type": "markdown",
   "metadata": {},
   "source": [
    "# Scripts"
   ]
  },
  {
   "cell_type": "markdown",
   "metadata": {},
   "source": [
    "### about_artist\n",
    "\n",
    "* get_albums(*sp*)\n",
    "* print_albums()"
   ]
  },
  {
   "cell_type": "markdown",
   "metadata": {},
   "source": [
    "### audio_features\n",
    "\n",
    "* get_audio_features(*sp*)"
   ]
  },
  {
   "cell_type": "markdown",
   "metadata": {},
   "source": [
    "### auth\n",
    "\n",
    "* authenticate()\n",
    "* auth_manage()\n",
    "* auth_url()"
   ]
  },
  {
   "cell_type": "markdown",
   "metadata": {},
   "source": [
    "### secret\n",
    "\n",
    "* **CLIENT_ID**\n",
    "* **CLIENT_SECRET**\n",
    "* **REDIRECT_URI**\n",
    "* **SCOPE**\n",
    "\n",
    "    * user-library-read\n",
    "    * user-modify-playback-state\n",
    "    * user-read-currently-playing\n",
    "    * user-read-playback-state\n",
    "    * user-read-recently-played\n",
    "    * user-top-read"
   ]
  },
  {
   "cell_type": "markdown",
   "metadata": {},
   "source": [
    "### user_info\n",
    "\n",
    "* get_user()\n",
    "* get_user_playlists(*sp, playlists*)\n",
    "* get_user_top_artists(*sp, top_artists*)\n",
    "* get_user_top_tracks(*sp, top_tracks*)\n",
    "* user_info(*top_tracks=10, top_artists=10, playlists=100*)"
   ]
  },
  {
   "cell_type": "markdown",
   "metadata": {},
   "source": [
    "### user_playlists\n",
    "\n",
    "* playlist_info(*sp*)\n",
    "* print_playlists()\n",
    "* print_songs(*sp*)"
   ]
  },
  {
   "cell_type": "markdown",
   "metadata": {},
   "source": [
    "### user_prompts\n",
    "\n",
    "* prompt_user_artist_URI()\n",
    "* prompt_user_playlist_id()"
   ]
  }
 ],
 "metadata": {
  "language_info": {
   "name": "python"
  }
 },
 "nbformat": 4,
 "nbformat_minor": 2
}
