{
 "cells": [
  {
   "cell_type": "markdown",
   "metadata": {},
   "source": [
    "### I need to figure out a name for my app.\n",
    "\n",
    "To start off I am using Spotify for developers. I am creating a new app. I need to figure out a name before moving on!\n",
    "\n",
    "I've filled the following in for the app description: Use this app to build your very own custom playlists, editing playlist length, mood, and choosing how much new music you want to discover.\n",
    "\n",
    "And two redirect URIs:\n",
    "\n",
    "https://localhost:8888/callback/\n",
    "\n",
    "https://localhost:3000/callback/\n",
    "\n",
    "And using the follwing APIs/SDKs:\n",
    "\n",
    "- Web API\n",
    "- Web Playback SDK\n",
    "- Android\n",
    "- Ads API"
   ]
  },
  {
   "cell_type": "markdown",
   "metadata": {},
   "source": [
    "# Libraries"
   ]
  },
  {
   "cell_type": "markdown",
   "metadata": {},
   "source": [
    "### Spotipy \n",
    "\n",
    "| Helper Function               | Description                     |\n",
    "|-------------------------------|---------------------------------|\n",
    "| artist_related_artists        | Fetch related artists           |\n",
    "| artist_top_tracks             | Get top tracks of an artist     |\n",
    "| audio_analysis                | Retrieve audio analysis         |\n",
    "| audio_features                | Get audio features of a track   |\n",
    "| current_user                  | Get current user profile        |\n",
    "| current_user_follow_playlist  | Follow a playlist               |\n",
    "| current_user_recently_played  | Fetch recently played tracks    |\n",
    "| current_user_saved_tracks     | Get saved tracks of the user    |\n",
    "| current_user_top_artists      | Fetch user's top artists        |\n",
    "| current_user_top_tracks       | Fetch user's top tracks         |\n",
    "| me                            | Get current user info           |\n",
    "| playlist                      | Retrieve playlist details       |\n",
    "| playlist_add_items            | Add items to a playlist         |\n",
    "| playlist_change_details       | Change playlist details         |\n",
    "| playlist_reorder_items        | Reorder playlist items          |\n",
    "| playlist_tracks               | Get tracks in a playlist        |\n",
    "| recommendation_genre_seeds    | Get recommendation seeds        |\n",
    "| recommendations               | Fetch recommendations           |\n",
    "| shuffle                       | Shuffle playback                |\n",
    "| start_playback                | Start playback                  |\n",
    "| track                         | Get track details               |\n",
    "| tracks                        | Get multiple tracks             |\n",
    "| user                          | Get user profile                |\n",
    "| user_playlist_create          | Create a playlist for a user    |\n",
    "| volume                        | Adjust playback volume          |"
   ]
  },
  {
   "cell_type": "markdown",
   "metadata": {},
   "source": [
    "##  Processes"
   ]
  },
  {
   "cell_type": "markdown",
   "metadata": {},
   "source": [
    "- **about_artist.py**: This script interacts with Spotify API via Spotipy to retreive and display a list of albums by a specific artst.\n",
    "\n",
    "- **auth.py**: This script is the client authorization code flow.\n",
    "\n",
    "- **secret.py**:\n",
    "\n",
    "- **user_info.py**:\n",
    "\n",
    "- **user_playlists**:\n",
    "\n",
    "- **user_prompts**: "
   ]
  },
  {
   "cell_type": "markdown",
   "metadata": {},
   "source": [
    "## Data"
   ]
  },
  {
   "cell_type": "code",
   "execution_count": 6,
   "metadata": {},
   "outputs": [],
   "source": [
    "import spotipy\n",
    "from spotipy.oauth2 import SpotifyOAuth"
   ]
  },
  {
   "cell_type": "code",
   "execution_count": 7,
   "metadata": {},
   "outputs": [],
   "source": [
    "from user_info import get_user\n",
    "sp = get_user()"
   ]
  },
  {
   "cell_type": "code",
   "execution_count": null,
   "metadata": {},
   "outputs": [],
   "source": []
  }
 ],
 "metadata": {
  "kernelspec": {
   "display_name": "Python 3",
   "language": "python",
   "name": "python3"
  },
  "language_info": {
   "codemirror_mode": {
    "name": "ipython",
    "version": 3
   },
   "file_extension": ".py",
   "mimetype": "text/x-python",
   "name": "python",
   "nbconvert_exporter": "python",
   "pygments_lexer": "ipython3",
   "version": "3.10.7"
  }
 },
 "nbformat": 4,
 "nbformat_minor": 2
}
